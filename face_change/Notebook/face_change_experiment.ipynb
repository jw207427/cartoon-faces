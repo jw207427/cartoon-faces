{
 "cells": [
  {
   "cell_type": "code",
   "execution_count": 1,
   "id": "bd1ded9c",
   "metadata": {},
   "outputs": [
    {
     "name": "stdout",
     "output_type": "stream",
     "text": [
      "Requirement already satisfied: gluoncv in /home/ec2-user/anaconda3/envs/mxnet_latest_p37/lib/python3.7/site-packages (0.10.1.post0)\n",
      "Requirement already satisfied: scipy in /home/ec2-user/anaconda3/envs/mxnet_latest_p37/lib/python3.7/site-packages (from gluoncv) (1.6.3)\n",
      "Requirement already satisfied: autocfg in /home/ec2-user/anaconda3/envs/mxnet_latest_p37/lib/python3.7/site-packages (from gluoncv) (0.0.8)\n",
      "Requirement already satisfied: requests in /home/ec2-user/anaconda3/envs/mxnet_latest_p37/lib/python3.7/site-packages (from gluoncv) (2.25.1)\n",
      "Requirement already satisfied: yacs in /home/ec2-user/anaconda3/envs/mxnet_latest_p37/lib/python3.7/site-packages (from gluoncv) (0.1.8)\n",
      "Requirement already satisfied: portalocker in /home/ec2-user/anaconda3/envs/mxnet_latest_p37/lib/python3.7/site-packages (from gluoncv) (2.3.0)\n",
      "Requirement already satisfied: autogluon.core in /home/ec2-user/anaconda3/envs/mxnet_latest_p37/lib/python3.7/site-packages (from gluoncv) (0.2.0)\n",
      "Requirement already satisfied: pyyaml in /home/ec2-user/anaconda3/envs/mxnet_latest_p37/lib/python3.7/site-packages (from gluoncv) (5.4.1)\n",
      "Requirement already satisfied: tensorboardx in /home/ec2-user/anaconda3/envs/mxnet_latest_p37/lib/python3.7/site-packages (from gluoncv) (2.2)\n",
      "Requirement already satisfied: decord in /home/ec2-user/anaconda3/envs/mxnet_latest_p37/lib/python3.7/site-packages (from gluoncv) (0.5.2)\n",
      "Requirement already satisfied: opencv-python in /home/ec2-user/anaconda3/envs/mxnet_latest_p37/lib/python3.7/site-packages (from gluoncv) (4.5.1.48)\n",
      "Requirement already satisfied: matplotlib in /home/ec2-user/anaconda3/envs/mxnet_latest_p37/lib/python3.7/site-packages (from gluoncv) (3.3.4)\n",
      "Requirement already satisfied: tqdm in /home/ec2-user/anaconda3/envs/mxnet_latest_p37/lib/python3.7/site-packages (from gluoncv) (4.57.0)\n",
      "Requirement already satisfied: pandas in /home/ec2-user/anaconda3/envs/mxnet_latest_p37/lib/python3.7/site-packages (from gluoncv) (1.2.2)\n",
      "Requirement already satisfied: numpy in /home/ec2-user/anaconda3/envs/mxnet_latest_p37/lib/python3.7/site-packages (from gluoncv) (1.19.5)\n",
      "Requirement already satisfied: Pillow in /home/ec2-user/anaconda3/envs/mxnet_latest_p37/lib/python3.7/site-packages (from gluoncv) (8.2.0)\n",
      "Requirement already satisfied: tornado>=5.0.1 in /home/ec2-user/anaconda3/envs/mxnet_latest_p37/lib/python3.7/site-packages (from autogluon.core->gluoncv) (6.1)\n",
      "Requirement already satisfied: cython in /home/ec2-user/anaconda3/envs/mxnet_latest_p37/lib/python3.7/site-packages (from autogluon.core->gluoncv) (0.29.22)\n",
      "Requirement already satisfied: dill==0.3.3 in /home/ec2-user/anaconda3/envs/mxnet_latest_p37/lib/python3.7/site-packages (from autogluon.core->gluoncv) (0.3.3)\n",
      "Requirement already satisfied: scikit-learn<0.25,>=0.23.2 in /home/ec2-user/anaconda3/envs/mxnet_latest_p37/lib/python3.7/site-packages (from autogluon.core->gluoncv) (0.24.1)\n",
      "Requirement already satisfied: graphviz<0.9.0,>=0.8.1 in /home/ec2-user/anaconda3/envs/mxnet_latest_p37/gpu_cuda10.1/lib/python3.7/site-packages (from autogluon.core->gluoncv) (0.8.4)\n",
      "Requirement already satisfied: paramiko>=2.4 in /home/ec2-user/anaconda3/envs/mxnet_latest_p37/lib/python3.7/site-packages (from autogluon.core->gluoncv) (2.7.2)\n",
      "Requirement already satisfied: dask>=2.6.0 in /home/ec2-user/anaconda3/envs/mxnet_latest_p37/lib/python3.7/site-packages (from autogluon.core->gluoncv) (2021.2.0)\n",
      "Requirement already satisfied: distributed>=2.6.0 in /home/ec2-user/anaconda3/envs/mxnet_latest_p37/lib/python3.7/site-packages (from autogluon.core->gluoncv) (2021.2.0)\n",
      "Requirement already satisfied: boto3 in /home/ec2-user/anaconda3/envs/mxnet_latest_p37/lib/python3.7/site-packages (from autogluon.core->gluoncv) (1.17.83)\n",
      "Requirement already satisfied: autograd>=1.3 in /home/ec2-user/anaconda3/envs/mxnet_latest_p37/lib/python3.7/site-packages (from autogluon.core->gluoncv) (1.3)\n",
      "Requirement already satisfied: ConfigSpace==0.4.18 in /home/ec2-user/anaconda3/envs/mxnet_latest_p37/lib/python3.7/site-packages (from autogluon.core->gluoncv) (0.4.18)\n",
      "Requirement already satisfied: pyparsing in /home/ec2-user/anaconda3/envs/mxnet_latest_p37/lib/python3.7/site-packages (from ConfigSpace==0.4.18->autogluon.core->gluoncv) (2.4.7)\n",
      "Requirement already satisfied: future>=0.15.2 in /home/ec2-user/anaconda3/envs/mxnet_latest_p37/lib/python3.7/site-packages (from autograd>=1.3->autogluon.core->gluoncv) (0.18.2)\n",
      "Requirement already satisfied: psutil>=5.0 in /home/ec2-user/anaconda3/envs/mxnet_latest_p37/lib/python3.7/site-packages (from distributed>=2.6.0->autogluon.core->gluoncv) (5.8.0)\n",
      "Requirement already satisfied: sortedcontainers!=2.0.0,!=2.0.1 in /home/ec2-user/anaconda3/envs/mxnet_latest_p37/lib/python3.7/site-packages (from distributed>=2.6.0->autogluon.core->gluoncv) (2.3.0)\n",
      "Requirement already satisfied: zict>=0.1.3 in /home/ec2-user/anaconda3/envs/mxnet_latest_p37/lib/python3.7/site-packages (from distributed>=2.6.0->autogluon.core->gluoncv) (2.0.0)\n",
      "Requirement already satisfied: click>=6.6 in /home/ec2-user/anaconda3/envs/mxnet_latest_p37/lib/python3.7/site-packages (from distributed>=2.6.0->autogluon.core->gluoncv) (7.1.2)\n",
      "Requirement already satisfied: setuptools in /home/ec2-user/anaconda3/envs/mxnet_latest_p37/lib/python3.7/site-packages (from distributed>=2.6.0->autogluon.core->gluoncv) (49.6.0.post20210108)\n",
      "Requirement already satisfied: msgpack>=0.6.0 in /home/ec2-user/anaconda3/envs/mxnet_latest_p37/lib/python3.7/site-packages (from distributed>=2.6.0->autogluon.core->gluoncv) (1.0.0)\n",
      "Requirement already satisfied: tblib>=1.6.0 in /home/ec2-user/anaconda3/envs/mxnet_latest_p37/lib/python3.7/site-packages (from distributed>=2.6.0->autogluon.core->gluoncv) (1.6.0)\n",
      "Requirement already satisfied: toolz>=0.8.2 in /home/ec2-user/anaconda3/envs/mxnet_latest_p37/lib/python3.7/site-packages (from distributed>=2.6.0->autogluon.core->gluoncv) (0.11.1)\n",
      "Requirement already satisfied: cloudpickle>=1.5.0 in /home/ec2-user/anaconda3/envs/mxnet_latest_p37/lib/python3.7/site-packages (from distributed>=2.6.0->autogluon.core->gluoncv) (1.6.0)\n",
      "Requirement already satisfied: python-dateutil>=2.7.3 in /home/ec2-user/anaconda3/envs/mxnet_latest_p37/lib/python3.7/site-packages (from pandas->gluoncv) (2.8.1)\n",
      "Requirement already satisfied: pytz>=2017.3 in /home/ec2-user/anaconda3/envs/mxnet_latest_p37/lib/python3.7/site-packages (from pandas->gluoncv) (2021.1)\n",
      "Requirement already satisfied: pynacl>=1.0.1 in /home/ec2-user/anaconda3/envs/mxnet_latest_p37/lib/python3.7/site-packages (from paramiko>=2.4->autogluon.core->gluoncv) (1.4.0)\n",
      "Requirement already satisfied: cryptography>=2.5 in /home/ec2-user/anaconda3/envs/mxnet_latest_p37/lib/python3.7/site-packages (from paramiko>=2.4->autogluon.core->gluoncv) (3.4.4)\n",
      "Requirement already satisfied: bcrypt>=3.1.3 in /home/ec2-user/anaconda3/envs/mxnet_latest_p37/lib/python3.7/site-packages (from paramiko>=2.4->autogluon.core->gluoncv) (3.2.0)\n",
      "Requirement already satisfied: cffi>=1.1 in /home/ec2-user/anaconda3/envs/mxnet_latest_p37/lib/python3.7/site-packages (from bcrypt>=3.1.3->paramiko>=2.4->autogluon.core->gluoncv) (1.14.5)\n",
      "Requirement already satisfied: six>=1.4.1 in /home/ec2-user/anaconda3/envs/mxnet_latest_p37/lib/python3.7/site-packages (from bcrypt>=3.1.3->paramiko>=2.4->autogluon.core->gluoncv) (1.15.0)\n",
      "Requirement already satisfied: pycparser in /home/ec2-user/anaconda3/envs/mxnet_latest_p37/lib/python3.7/site-packages (from cffi>=1.1->bcrypt>=3.1.3->paramiko>=2.4->autogluon.core->gluoncv) (2.20)\n",
      "Requirement already satisfied: joblib>=0.11 in /home/ec2-user/anaconda3/envs/mxnet_latest_p37/lib/python3.7/site-packages (from scikit-learn<0.25,>=0.23.2->autogluon.core->gluoncv) (1.0.1)\n",
      "Requirement already satisfied: threadpoolctl>=2.0.0 in /home/ec2-user/anaconda3/envs/mxnet_latest_p37/lib/python3.7/site-packages (from scikit-learn<0.25,>=0.23.2->autogluon.core->gluoncv) (2.1.0)\n",
      "Requirement already satisfied: heapdict in /home/ec2-user/anaconda3/envs/mxnet_latest_p37/lib/python3.7/site-packages (from zict>=0.1.3->distributed>=2.6.0->autogluon.core->gluoncv) (1.0.1)\n",
      "Requirement already satisfied: botocore<1.21.0,>=1.20.83 in /home/ec2-user/anaconda3/envs/mxnet_latest_p37/lib/python3.7/site-packages (from boto3->autogluon.core->gluoncv) (1.20.83)\n",
      "Requirement already satisfied: jmespath<1.0.0,>=0.7.1 in /home/ec2-user/anaconda3/envs/mxnet_latest_p37/lib/python3.7/site-packages (from boto3->autogluon.core->gluoncv) (0.10.0)\n",
      "Requirement already satisfied: s3transfer<0.5.0,>=0.4.0 in /home/ec2-user/anaconda3/envs/mxnet_latest_p37/lib/python3.7/site-packages (from boto3->autogluon.core->gluoncv) (0.4.2)\n"
     ]
    },
    {
     "name": "stdout",
     "output_type": "stream",
     "text": [
      "Requirement already satisfied: urllib3<1.27,>=1.25.4 in /home/ec2-user/anaconda3/envs/mxnet_latest_p37/lib/python3.7/site-packages (from botocore<1.21.0,>=1.20.83->boto3->autogluon.core->gluoncv) (1.26.5)\n",
      "Requirement already satisfied: cycler>=0.10 in /home/ec2-user/anaconda3/envs/mxnet_latest_p37/lib/python3.7/site-packages (from matplotlib->gluoncv) (0.10.0)\n",
      "Requirement already satisfied: kiwisolver>=1.0.1 in /home/ec2-user/anaconda3/envs/mxnet_latest_p37/lib/python3.7/site-packages (from matplotlib->gluoncv) (1.3.1)\n",
      "Requirement already satisfied: chardet<5,>=3.0.2 in /home/ec2-user/anaconda3/envs/mxnet_latest_p37/lib/python3.7/site-packages (from requests->gluoncv) (3.0.4)\n",
      "Requirement already satisfied: idna<3,>=2.5 in /home/ec2-user/anaconda3/envs/mxnet_latest_p37/lib/python3.7/site-packages (from requests->gluoncv) (2.10)\n",
      "Requirement already satisfied: certifi>=2017.4.17 in /home/ec2-user/anaconda3/envs/mxnet_latest_p37/lib/python3.7/site-packages (from requests->gluoncv) (2020.12.5)\n",
      "Requirement already satisfied: protobuf>=3.8.0 in /home/ec2-user/anaconda3/envs/mxnet_latest_p37/lib/python3.7/site-packages (from tensorboardx->gluoncv) (3.15.2)\n"
     ]
    }
   ],
   "source": [
    "!pip3 install gluoncv"
   ]
  },
  {
   "cell_type": "code",
   "execution_count": 1,
   "id": "81833712",
   "metadata": {},
   "outputs": [],
   "source": [
    "from __future__ import division\n",
    "from __future__ import print_function\n",
    "\n",
    "from IPython.display import clear_output, Markdown, display\n",
    "import json\n",
    "\n",
    "from gluoncv import model_zoo, data, utils\n",
    "import mxnet as mx\n",
    "import time\n",
    "\n",
    "import matplotlib.pyplot as plt\n",
    "from matplotlib.patches import Rectangle\n",
    "plt.rcParams[\"figure.figsize\"] = (20,20)"
   ]
  },
  {
   "cell_type": "code",
   "execution_count": 2,
   "id": "9ca3e45d",
   "metadata": {},
   "outputs": [
    {
     "name": "stdout",
     "output_type": "stream",
     "text": [
      "Loading Model\n",
      "Model Loaded\n"
     ]
    },
    {
     "name": "stderr",
     "output_type": "stream",
     "text": [
      "/home/ec2-user/anaconda3/envs/mxnet_latest_p37/gpu_cuda10.1/lib/python3.7/site-packages/mxnet/gluon/block.py:1577: UserWarning: Cannot decide type for the following arguments. Consider providing them as input:\n",
      "\tdata: None\n",
      "  input_sym_arg_type = in_param.infer_type()[0]\n"
     ]
    }
   ],
   "source": [
    "import os\n",
    "import sys\n",
    "path = os.path.abspath(os.path.join(os.path.dirname(\"panorama_sdk\"), '../..'))\n",
    "sys.path.insert(1, path + '/panorama_sdk')\n",
    "\n",
    "import jupyter_utils\n",
    "\n",
    "jupyter_utils.declare_globals({'mxnet_modelzoo_example': False, \n",
    "                               'custom_model': True, 'task':'object_detection', 'framework':'MXNET'})\n",
    "\n",
    "import panoramasdk\n",
    "\n",
    "print('Loading Model')\n",
    "model = panoramasdk.model()\n",
    "model.open('deploy_ssd_vgg16_reduced_512', 1)\n",
    "print('Model Loaded')"
   ]
  },
  {
   "cell_type": "code",
   "execution_count": null,
   "id": "3abaf707",
   "metadata": {},
   "outputs": [],
   "source": []
  },
  {
   "cell_type": "code",
   "execution_count": 3,
   "id": "e9b2cc24",
   "metadata": {},
   "outputs": [],
   "source": [
    "def preprocess(img, size):\n",
    "\n",
    "    resized = cv2.resize(img, (size, size))\n",
    "    mean = [0.485, 0.456, 0.406]  # RGB\n",
    "    std = [0.229, 0.224, 0.225]  # RGB\n",
    "\n",
    "    img = resized.astype(np.float32) / 255.  # converting array of ints to floats\n",
    "    img_a = img[:, :, 0]\n",
    "    img_b = img[:, :, 1]\n",
    "    img_c = img[:, :, 2]\n",
    "\n",
    "    # Extracting single channels from 3 channel image\n",
    "    # The above code could also be replaced with cv2.split(img) << which will return 3 numpy arrays (using opencv)\n",
    "    # normalizing per channel data:\n",
    "    img_a = (img_a - mean[0]) / std[0]\n",
    "    img_b = (img_b - mean[1]) / std[1]\n",
    "    img_c = (img_c - mean[2]) / std[2]\n",
    "\n",
    "    # putting the 3 channels back together:\n",
    "    x1 = [[[], [], []]]\n",
    "    x1[0][0] = img_a\n",
    "    x1[0][1] = img_b\n",
    "    x1[0][2] = img_c\n",
    "    x1 = np.asarray(x1)\n",
    "\n",
    "    return x1"
   ]
  },
  {
   "cell_type": "code",
   "execution_count": 4,
   "id": "0a0b8c97",
   "metadata": {},
   "outputs": [
    {
     "name": "stderr",
     "output_type": "stream",
     "text": [
      "\r",
      "  0%|          | 0/3124 [00:00<?, ?KB/s]"
     ]
    },
    {
     "name": "stdout",
     "output_type": "stream",
     "text": [
      "Downloading street_empty.jpg from https://upload.wikimedia.org/wikipedia/commons/a/ad/Small_Street%2C_Bristol%2C_2018.jpg...\n"
     ]
    },
    {
     "name": "stderr",
     "output_type": "stream",
     "text": [
      "100%|██████████| 3124/3124 [00:00<00:00, 41868.66KB/s]\n"
     ]
    },
    {
     "ename": "ValueError",
     "evalue": "not enough values to unpack (expected 3, got 1)",
     "output_type": "error",
     "traceback": [
      "\u001b[0;31m---------------------------------------------------------------------------\u001b[0m",
      "\u001b[0;31mValueError\u001b[0m                                Traceback (most recent call last)",
      "\u001b[0;32m<ipython-input-4-85f5dffa9815>\u001b[0m in \u001b[0;36m<module>\u001b[0;34m\u001b[0m\n\u001b[1;32m      6\u001b[0m \u001b[0;34m\u001b[0m\u001b[0m\n\u001b[1;32m      7\u001b[0m \u001b[0;31m# Create input and output arrays.\u001b[0m\u001b[0;34m\u001b[0m\u001b[0;34m\u001b[0m\u001b[0;34m\u001b[0m\u001b[0m\n\u001b[0;32m----> 8\u001b[0;31m \u001b[0mclass_info\u001b[0m \u001b[0;34m=\u001b[0m \u001b[0mmodel\u001b[0m\u001b[0;34m.\u001b[0m\u001b[0mget_output\u001b[0m\u001b[0;34m(\u001b[0m\u001b[0;36m0\u001b[0m\u001b[0;34m)\u001b[0m\u001b[0;34m\u001b[0m\u001b[0;34m\u001b[0m\u001b[0m\n\u001b[0m\u001b[1;32m      9\u001b[0m \u001b[0mprob_info\u001b[0m \u001b[0;34m=\u001b[0m \u001b[0mmodel\u001b[0m\u001b[0;34m.\u001b[0m\u001b[0mget_output\u001b[0m\u001b[0;34m(\u001b[0m\u001b[0;36m1\u001b[0m\u001b[0;34m)\u001b[0m\u001b[0;34m\u001b[0m\u001b[0;34m\u001b[0m\u001b[0m\n\u001b[1;32m     10\u001b[0m \u001b[0mrect_info\u001b[0m \u001b[0;34m=\u001b[0m \u001b[0mmodel\u001b[0m\u001b[0;34m.\u001b[0m\u001b[0mget_output\u001b[0m\u001b[0;34m(\u001b[0m\u001b[0;36m2\u001b[0m\u001b[0;34m)\u001b[0m\u001b[0;34m\u001b[0m\u001b[0;34m\u001b[0m\u001b[0m\n",
      "\u001b[0;32m~/SageMaker/cartoon-faces/panorama_sdk/panoramasdk.py\u001b[0m in \u001b[0;36mget_output\u001b[0;34m(self, val)\u001b[0m\n\u001b[1;32m    745\u001b[0m \u001b[0;34m\u001b[0m\u001b[0m\n\u001b[1;32m    746\u001b[0m             \u001b[0mx\u001b[0m\u001b[0;34m,\u001b[0m \u001b[0mimg\u001b[0m \u001b[0;34m=\u001b[0m \u001b[0mdata\u001b[0m\u001b[0;34m.\u001b[0m\u001b[0mtransforms\u001b[0m\u001b[0;34m.\u001b[0m\u001b[0mpresets\u001b[0m\u001b[0;34m.\u001b[0m\u001b[0mssd\u001b[0m\u001b[0;34m.\u001b[0m\u001b[0mload_test\u001b[0m\u001b[0;34m(\u001b[0m\u001b[0mim_fname\u001b[0m\u001b[0;34m,\u001b[0m \u001b[0mshort\u001b[0m\u001b[0;34m=\u001b[0m\u001b[0;36m512\u001b[0m\u001b[0;34m)\u001b[0m\u001b[0;34m\u001b[0m\u001b[0;34m\u001b[0m\u001b[0m\n\u001b[0;32m--> 747\u001b[0;31m             \u001b[0mclass_IDs\u001b[0m\u001b[0;34m,\u001b[0m \u001b[0mscores\u001b[0m\u001b[0;34m,\u001b[0m \u001b[0mbounding_boxes\u001b[0m \u001b[0;34m=\u001b[0m \u001b[0mself\u001b[0m\u001b[0;34m.\u001b[0m\u001b[0mmodel\u001b[0m\u001b[0;34m(\u001b[0m\u001b[0mx\u001b[0m\u001b[0;34m)\u001b[0m\u001b[0;34m\u001b[0m\u001b[0;34m\u001b[0m\u001b[0m\n\u001b[0m\u001b[1;32m    748\u001b[0m \u001b[0;34m\u001b[0m\u001b[0m\n\u001b[1;32m    749\u001b[0m             \u001b[0;32mif\u001b[0m \u001b[0mval\u001b[0m \u001b[0;34m==\u001b[0m \u001b[0;36m0\u001b[0m\u001b[0;34m:\u001b[0m\u001b[0;34m\u001b[0m\u001b[0;34m\u001b[0m\u001b[0m\n",
      "\u001b[0;31mValueError\u001b[0m: not enough values to unpack (expected 3, got 1)"
     ]
    }
   ],
   "source": [
    "import cv2\n",
    "import numpy as np\n",
    "\n",
    "\n",
    "## Panorama has a unique signature where we have to create empty arrays with the output dimensions before hand\n",
    "\n",
    "# Create input and output arrays.\n",
    "class_info = model.get_output(0)\n",
    "prob_info = model.get_output(1)\n",
    "rect_info = model.get_output(2)\n",
    "\n",
    "class_array = np.empty(class_info.get_dims(), dtype=class_info.get_type())\n",
    "prob_array = np.empty(prob_info.get_dims(), dtype=prob_info.get_type())\n",
    "rect_array = np.empty(rect_info.get_dims(), dtype=rect_info.get_type())\n",
    "\n",
    "filename = 'street_test.jpg'\n",
    "image = cv2.imread(filename)\n",
    "\n",
    "# Pre Process Frame\n",
    "x1 = preprocess(image, 512)\n",
    "\n",
    "# Do inference on the new frame.\n",
    "model.batch(0, x1)\n",
    "model.flush()\n",
    "\n",
    "# Get the results.\n",
    "resultBatchSet = model.get_result()\n",
    "\n",
    "class_batch = resultBatchSet.get(0)\n",
    "prob_batch = resultBatchSet.get(1)\n",
    "rect_batch = resultBatchSet.get(2)\n",
    "\n",
    "class_batch.get(0, class_array)\n",
    "prob_batch.get(1, prob_array)\n",
    "rect_batch.get(2, rect_array)\n",
    "\n",
    "class_data = class_array[0]\n",
    "prob_data = prob_array[0]\n",
    "rect_data = rect_array[0]\n",
    "\n",
    "\n",
    "print('Class data shape is ', class_data.shape)\n",
    "print('Confidence data shape is ', prob_data.shape)\n",
    "print('Bounding Boxes data shape is ',rect_data.shape)\n",
    "\n",
    "plt.imshow(image)\n",
    "plt.title(filename)\n",
    "plt.show()"
   ]
  },
  {
   "cell_type": "code",
   "execution_count": null,
   "id": "5204ba0d",
   "metadata": {},
   "outputs": [],
   "source": []
  }
 ],
 "metadata": {
  "kernelspec": {
   "display_name": "conda_mxnet_latest_p37",
   "language": "python",
   "name": "conda_mxnet_latest_p37"
  },
  "language_info": {
   "codemirror_mode": {
    "name": "ipython",
    "version": 3
   },
   "file_extension": ".py",
   "mimetype": "text/x-python",
   "name": "python",
   "nbconvert_exporter": "python",
   "pygments_lexer": "ipython3",
   "version": "3.7.10"
  }
 },
 "nbformat": 4,
 "nbformat_minor": 5
}
